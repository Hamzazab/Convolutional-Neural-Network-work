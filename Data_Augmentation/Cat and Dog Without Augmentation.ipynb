{
 "cells": [
  {
   "cell_type": "code",
   "execution_count": 1,
   "id": "e9fe2844",
   "metadata": {},
   "outputs": [],
   "source": [
    "import cv2\n",
    "import os\n",
    "import random\n",
    "import numpy as np"
   ]
  },
  {
   "cell_type": "code",
   "execution_count": 2,
   "id": "a9d52bad",
   "metadata": {},
   "outputs": [],
   "source": [
    "mydir = \"C:/Users/Hamza/Data_Augmentation/Data/train\""
   ]
  },
  {
   "cell_type": "code",
   "execution_count": 3,
   "id": "ca659d6b",
   "metadata": {},
   "outputs": [],
   "source": [
    "categories = ['cats' , 'dogs']"
   ]
  },
  {
   "cell_type": "code",
   "execution_count": 4,
   "id": "5eda9368",
   "metadata": {},
   "outputs": [],
   "source": [
    "data = []\n",
    "\n",
    "for i in categories:\n",
    "    folder_path = os.path.join(mydir,i)\n",
    "    \n",
    "    if i == 'cats':\n",
    "        label = 0\n",
    "        \n",
    "    else:\n",
    "        label = 1\n",
    "        \n",
    "    for j in os.listdir(folder_path):\n",
    "        \n",
    "        img_path = os.path.join(folder_path,j)\n",
    "        img = cv2.imread(img_path)\n",
    "        img = cv2.resize(img,(150,150))\n",
    "        data.append([img,label])"
   ]
  },
  {
   "cell_type": "code",
   "execution_count": 5,
   "id": "a1b842e6",
   "metadata": {},
   "outputs": [],
   "source": [
    "random.shuffle(data)"
   ]
  },
  {
   "cell_type": "code",
   "execution_count": 6,
   "id": "55257348",
   "metadata": {},
   "outputs": [],
   "source": [
    "X = []\n",
    "y = []\n",
    "for i in data:\n",
    "    X.append(i[0])\n",
    "    y.append(i[1])"
   ]
  },
  {
   "cell_type": "code",
   "execution_count": 7,
   "id": "6bd413b0",
   "metadata": {},
   "outputs": [],
   "source": [
    "y = np.array(y)"
   ]
  },
  {
   "cell_type": "code",
   "execution_count": 8,
   "id": "4ae7a58f",
   "metadata": {},
   "outputs": [],
   "source": [
    "X = np.array(X)"
   ]
  },
  {
   "cell_type": "code",
   "execution_count": 9,
   "id": "8945d132",
   "metadata": {},
   "outputs": [
    {
     "data": {
      "text/plain": [
       "(2000, 150, 150, 3)"
      ]
     },
     "execution_count": 9,
     "metadata": {},
     "output_type": "execute_result"
    }
   ],
   "source": [
    "X.shape"
   ]
  },
  {
   "cell_type": "code",
   "execution_count": 10,
   "id": "cb191519",
   "metadata": {},
   "outputs": [],
   "source": [
    "X = X/255"
   ]
  },
  {
   "cell_type": "code",
   "execution_count": 11,
   "id": "9169e793",
   "metadata": {},
   "outputs": [],
   "source": [
    "from keras import Sequential\n",
    "from keras.layers import Dense,Conv2D,MaxPooling2D,Flatten,BatchNormalization,Dropout,Activation"
   ]
  },
  {
   "cell_type": "code",
   "execution_count": 12,
   "id": "60ddf1ca",
   "metadata": {},
   "outputs": [],
   "source": [
    "model = Sequential()\n",
    "model.add(Conv2D(32, kernel_size=(3, 3), input_shape=(150, 150, 3)))\n",
    "model.add(Activation('relu'))\n",
    "model.add(MaxPooling2D(pool_size=(2, 2)))\n",
    "\n",
    "model.add(Conv2D(32, kernel_size=(3, 3)))\n",
    "model.add(Activation('relu'))\n",
    "model.add(MaxPooling2D(pool_size=(2, 2)))\n",
    "\n",
    "model.add(Conv2D(64, kernel_size=(3, 3)))\n",
    "model.add(Activation('relu'))\n",
    "model.add(MaxPooling2D(pool_size=(2, 2)))"
   ]
  },
  {
   "cell_type": "code",
   "execution_count": 13,
   "id": "495cf5e5",
   "metadata": {},
   "outputs": [],
   "source": [
    "model.add(Flatten())\n",
    "model.add(Dense(64))\n",
    "model.add(Activation('relu'))\n",
    "model.add(Dropout(0.5))\n",
    "model.add(Dense(1, activation='sigmoid'))\n",
    "\n",
    "model.compile(loss='binary_crossentropy',\n",
    "              optimizer='rmsprop',\n",
    "              metrics=['accuracy'])"
   ]
  },
  {
   "cell_type": "code",
   "execution_count": 14,
   "id": "f3239d01",
   "metadata": {},
   "outputs": [
    {
     "name": "stdout",
     "output_type": "stream",
     "text": [
      "Epoch 1/5\n",
      "57/57 [==============================] - 43s 652ms/step - loss: 0.7084 - accuracy: 0.5106 - val_loss: 0.6924 - val_accuracy: 0.4650\n",
      "Epoch 2/5\n",
      "57/57 [==============================] - 35s 610ms/step - loss: 0.6855 - accuracy: 0.5694 - val_loss: 0.6411 - val_accuracy: 0.6400\n",
      "Epoch 3/5\n",
      "57/57 [==============================] - 36s 622ms/step - loss: 0.6481 - accuracy: 0.6256 - val_loss: 0.6773 - val_accuracy: 0.5900\n",
      "Epoch 4/5\n",
      "57/57 [==============================] - 38s 668ms/step - loss: 0.6156 - accuracy: 0.6583 - val_loss: 0.6328 - val_accuracy: 0.5950\n",
      "Epoch 5/5\n",
      "57/57 [==============================] - 35s 609ms/step - loss: 0.5543 - accuracy: 0.7156 - val_loss: 0.5397 - val_accuracy: 0.7600\n"
     ]
    },
    {
     "data": {
      "text/plain": [
       "<keras.callbacks.History at 0x149e5c27970>"
      ]
     },
     "execution_count": 14,
     "metadata": {},
     "output_type": "execute_result"
    }
   ],
   "source": [
    "model.fit(X, y, epochs=5, validation_split=0.1)"
   ]
  },
  {
   "cell_type": "code",
   "execution_count": 15,
   "id": "2a4bd774",
   "metadata": {},
   "outputs": [],
   "source": [
    "from keras.preprocessing.image import ImageDataGenerator"
   ]
  },
  {
   "cell_type": "code",
   "execution_count": 22,
   "id": "129792e2",
   "metadata": {},
   "outputs": [
    {
     "name": "stdout",
     "output_type": "stream",
     "text": [
      "Found 2000 images belonging to 2 classes.\n",
      "Found 1000 images belonging to 2 classes.\n"
     ]
    }
   ],
   "source": [
    "batch_size = 16\n",
    "\n",
    "train_datagen = ImageDataGenerator(\n",
    "        rescale=1./255,\n",
    "        shear_range=0.2,\n",
    "        zoom_range=0.2,\n",
    "        horizontal_flip=True)\n",
    "\n",
    "test_datagen = ImageDataGenerator(rescale=1./255)\n",
    "\n",
    "train_generator = train_datagen.flow_from_directory(\n",
    "    'C:/Users/Hamza/Data_Augmentation/Data/train',\n",
    "    target_size=(150,150),\n",
    "    batch_size=batch_size,\n",
    "    class_mode='binary')\n",
    "    \n",
    "validation_generator = test_datagen.flow_from_directory(\n",
    "    'C:/Users/Hamza/Data_Augmentation/Data/valid',\n",
    "    target_size=(150,150),\n",
    "    batch_size=batch_size,\n",
    "    class_mode='binary')\n"
   ]
  },
  {
   "cell_type": "code",
   "execution_count": 23,
   "id": "01d38832",
   "metadata": {},
   "outputs": [],
   "source": [
    "model = Sequential()\n",
    "model.add(Conv2D(32, kernel_size=(3, 3), input_shape=(150, 150, 3)))\n",
    "model.add(Activation('relu'))\n",
    "model.add(MaxPooling2D(pool_size=(2, 2)))\n",
    "\n",
    "model.add(Conv2D(32, kernel_size=(3, 3)))\n",
    "model.add(Activation('relu'))\n",
    "model.add(MaxPooling2D(pool_size=(2, 2)))\n",
    "\n",
    "model.add(Conv2D(64, kernel_size=(3, 3)))\n",
    "model.add(Activation('relu'))\n",
    "model.add(MaxPooling2D(pool_size=(2, 2)))"
   ]
  },
  {
   "cell_type": "code",
   "execution_count": 24,
   "id": "e06255b3",
   "metadata": {},
   "outputs": [],
   "source": [
    "model.add(Flatten())\n",
    "model.add(Dense(64))\n",
    "model.add(Activation('relu'))\n",
    "model.add(Dropout(0.5))\n",
    "model.add(Dense(1, activation='sigmoid'))\n",
    "\n",
    "model.compile(loss='binary_crossentropy',\n",
    "              optimizer='rmsprop',\n",
    "              metrics=['accuracy'])"
   ]
  },
  {
   "cell_type": "code",
   "execution_count": 25,
   "id": "ac2d3e7a",
   "metadata": {},
   "outputs": [
    {
     "name": "stderr",
     "output_type": "stream",
     "text": [
      "C:\\Users\\Hamza\\AppData\\Local\\Temp\\ipykernel_10160\\1331574823.py:1: UserWarning: `Model.fit_generator` is deprecated and will be removed in a future version. Please use `Model.fit`, which supports generators.\n",
      "  model.fit_generator(train_generator,\n"
     ]
    },
    {
     "name": "stdout",
     "output_type": "stream",
     "text": [
      "Epoch 1/25\n",
      "125/125 [==============================] - 62s 486ms/step - loss: 0.7063 - accuracy: 0.5010 - val_loss: 0.6907 - val_accuracy: 0.4938\n",
      "Epoch 2/25\n",
      "125/125 [==============================] - 57s 455ms/step - loss: 0.6760 - accuracy: 0.5895 - val_loss: 0.5870 - val_accuracy: 0.7138\n",
      "Epoch 3/25\n",
      "125/125 [==============================] - 58s 466ms/step - loss: 0.6355 - accuracy: 0.6515 - val_loss: 0.5695 - val_accuracy: 0.7225\n",
      "Epoch 4/25\n",
      "125/125 [==============================] - 56s 448ms/step - loss: 0.6218 - accuracy: 0.6510 - val_loss: 0.6382 - val_accuracy: 0.6925\n",
      "Epoch 5/25\n",
      "125/125 [==============================] - 66s 531ms/step - loss: 0.5977 - accuracy: 0.6895 - val_loss: 0.5273 - val_accuracy: 0.7237\n",
      "Epoch 6/25\n",
      "125/125 [==============================] - 59s 470ms/step - loss: 0.5911 - accuracy: 0.6905 - val_loss: 0.5136 - val_accuracy: 0.7538\n",
      "Epoch 7/25\n",
      "125/125 [==============================] - 61s 489ms/step - loss: 0.5654 - accuracy: 0.7275 - val_loss: 0.4820 - val_accuracy: 0.7650\n",
      "Epoch 8/25\n",
      "125/125 [==============================] - 78s 624ms/step - loss: 0.5710 - accuracy: 0.7235 - val_loss: 0.4478 - val_accuracy: 0.7900\n",
      "Epoch 9/25\n",
      "125/125 [==============================] - 75s 597ms/step - loss: 0.5485 - accuracy: 0.7290 - val_loss: 0.4822 - val_accuracy: 0.7650\n",
      "Epoch 10/25\n",
      "125/125 [==============================] - 73s 583ms/step - loss: 0.5443 - accuracy: 0.7465 - val_loss: 0.4478 - val_accuracy: 0.7862\n",
      "Epoch 11/25\n",
      "125/125 [==============================] - 72s 576ms/step - loss: 0.5149 - accuracy: 0.7545 - val_loss: 0.4624 - val_accuracy: 0.7725\n",
      "Epoch 12/25\n",
      "125/125 [==============================] - 73s 582ms/step - loss: 0.5300 - accuracy: 0.7470 - val_loss: 0.4772 - val_accuracy: 0.7638\n",
      "Epoch 13/25\n",
      "125/125 [==============================] - 70s 556ms/step - loss: 0.4920 - accuracy: 0.7740 - val_loss: 0.4252 - val_accuracy: 0.8062\n",
      "Epoch 14/25\n",
      "125/125 [==============================] - 75s 600ms/step - loss: 0.4925 - accuracy: 0.7695 - val_loss: 0.4395 - val_accuracy: 0.8188\n",
      "Epoch 15/25\n",
      "125/125 [==============================] - 70s 562ms/step - loss: 0.4885 - accuracy: 0.7685 - val_loss: 0.3888 - val_accuracy: 0.8275\n",
      "Epoch 16/25\n",
      "125/125 [==============================] - 70s 561ms/step - loss: 0.4766 - accuracy: 0.7870 - val_loss: 0.4316 - val_accuracy: 0.7887\n",
      "Epoch 17/25\n",
      "125/125 [==============================] - 55s 437ms/step - loss: 0.4723 - accuracy: 0.7875 - val_loss: 0.3596 - val_accuracy: 0.8450\n",
      "Epoch 18/25\n",
      "125/125 [==============================] - 53s 423ms/step - loss: 0.4656 - accuracy: 0.7855 - val_loss: 0.3921 - val_accuracy: 0.8400\n",
      "Epoch 19/25\n",
      "125/125 [==============================] - 54s 430ms/step - loss: 0.4736 - accuracy: 0.7800 - val_loss: 0.3436 - val_accuracy: 0.8712\n",
      "Epoch 20/25\n",
      "125/125 [==============================] - 53s 424ms/step - loss: 0.4693 - accuracy: 0.7795 - val_loss: 0.3430 - val_accuracy: 0.8525\n",
      "Epoch 21/25\n",
      "125/125 [==============================] - 53s 427ms/step - loss: 0.4610 - accuracy: 0.7975 - val_loss: 0.3743 - val_accuracy: 0.8550\n",
      "Epoch 22/25\n",
      "125/125 [==============================] - 53s 426ms/step - loss: 0.4338 - accuracy: 0.8030 - val_loss: 0.3502 - val_accuracy: 0.8537\n",
      "Epoch 23/25\n",
      "125/125 [==============================] - 53s 426ms/step - loss: 0.4495 - accuracy: 0.8075 - val_loss: 0.3202 - val_accuracy: 0.8587\n",
      "Epoch 24/25\n",
      "125/125 [==============================] - 53s 426ms/step - loss: 0.4319 - accuracy: 0.8025 - val_loss: 0.3418 - val_accuracy: 0.8537\n",
      "Epoch 25/25\n",
      "125/125 [==============================] - 55s 440ms/step - loss: 0.4391 - accuracy: 0.7995 - val_loss: 0.3705 - val_accuracy: 0.8288\n"
     ]
    },
    {
     "data": {
      "text/plain": [
       "<keras.callbacks.History at 0x149e7ca0370>"
      ]
     },
     "execution_count": 25,
     "metadata": {},
     "output_type": "execute_result"
    }
   ],
   "source": [
    "model.fit_generator(train_generator,\n",
    "                    steps_per_epoch=2000 //batch_size,\n",
    "                    epochs=25,\n",
    "                    validation_data=validation_generator,\n",
    "                   validation_steps=800 // batch_size)"
   ]
  },
  {
   "cell_type": "code",
   "execution_count": null,
   "id": "bf9824c7",
   "metadata": {},
   "outputs": [],
   "source": []
  }
 ],
 "metadata": {
  "kernelspec": {
   "display_name": "Python 3 (ipykernel)",
   "language": "python",
   "name": "python3"
  },
  "language_info": {
   "codemirror_mode": {
    "name": "ipython",
    "version": 3
   },
   "file_extension": ".py",
   "mimetype": "text/x-python",
   "name": "python",
   "nbconvert_exporter": "python",
   "pygments_lexer": "ipython3",
   "version": "3.10.9"
  }
 },
 "nbformat": 4,
 "nbformat_minor": 5
}
